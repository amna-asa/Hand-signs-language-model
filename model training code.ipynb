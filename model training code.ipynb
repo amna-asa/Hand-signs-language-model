{
 "cells": [
  {
   "cell_type": "code",
   "execution_count": 1,
   "id": "309861c2",
   "metadata": {},
   "outputs": [
    {
     "name": "stdout",
     "output_type": "stream",
     "text": [
      "CUDA available: False\n",
      "GPU Name: N/A\n"
     ]
    }
   ],
   "source": [
    "import torch\n",
    "print(\"CUDA available:\", torch.cuda.is_available())\n",
    "print(\"GPU Name:\", torch.cuda.get_device_name(0) if torch.cuda.is_available() else \"N/A\")\n"
   ]
  },
  {
   "cell_type": "code",
   "execution_count": 17,
   "id": "1215a6fa",
   "metadata": {},
   "outputs": [],
   "source": [
    "!pip install torch torchvision matplotlib tqdm scikit-learn --quiet\n"
   ]
  },
  {
   "cell_type": "code",
   "execution_count": 18,
   "id": "46861136",
   "metadata": {},
   "outputs": [
    {
     "name": "stdout",
     "output_type": "stream",
     "text": [
      "Using device: cuda\n"
     ]
    }
   ],
   "source": [
    "import os\n",
    "import torch\n",
    "import torch.nn as nn\n",
    "import torchvision.transforms as transforms\n",
    "from torchvision import datasets, models\n",
    "from torchvision.models.vision_transformer import vit_b_16\n",
    "from torch.utils.data import DataLoader, random_split\n",
    "import matplotlib.pyplot as plt\n",
    "from tqdm import tqdm\n",
    "from sklearn.metrics import confusion_matrix, ConfusionMatrixDisplay\n",
    "\n",
    "# Path to your nested train dataset folder\n",
    "dataset_path = r\"C:\\Users\\VR\\Desktop\\Amna-Asad\\asl_alphabet_dataset\\asl_alphabet_train\\asl_alphabet_train\"\n",
    "\n",
    "# Create directories to save models and graphs\n",
    "models_dir = \"models\"\n",
    "graphs_dir = \"graphs\"\n",
    "os.makedirs(models_dir, exist_ok=True)\n",
    "os.makedirs(graphs_dir, exist_ok=True)\n",
    "\n",
    "# Device (GPU if available)\n",
    "device = torch.device(\"cuda\" if torch.cuda.is_available() else \"cpu\")\n",
    "print(\"Using device:\", device)\n"
   ]
  },
  {
   "cell_type": "code",
   "execution_count": 19,
   "id": "206b2f9e",
   "metadata": {},
   "outputs": [
    {
     "name": "stdout",
     "output_type": "stream",
     "text": [
      "Classes: ['A', 'B', 'C', 'D', 'E', 'F', 'G', 'H', 'I', 'J', 'K', 'L', 'M', 'N', 'O', 'P', 'Q', 'R', 'S', 'T', 'U', 'V', 'W', 'X', 'Y', 'Z', 'del', 'nothing', 'space']\n",
      "Train samples: 69600, Validation samples: 17400\n"
     ]
    }
   ],
   "source": [
    "batch_size = 32\n",
    "image_size = 224\n",
    "\n",
    "train_transform = transforms.Compose([\n",
    "    transforms.Resize((image_size, image_size)),\n",
    "    transforms.RandomHorizontalFlip(),\n",
    "    transforms.RandomRotation(10),\n",
    "    transforms.ToTensor(),\n",
    "    transforms.Normalize([0.485, 0.456, 0.406],\n",
    "                         [0.229, 0.224, 0.225]),\n",
    "])\n",
    "\n",
    "val_transform = transforms.Compose([\n",
    "    transforms.Resize((image_size, image_size)),\n",
    "    transforms.ToTensor(),\n",
    "    transforms.Normalize([0.485, 0.456, 0.406],\n",
    "                         [0.229, 0.224, 0.225]),\n",
    "])\n",
    "\n",
    "# Load dataset and split into train and val\n",
    "full_dataset = datasets.ImageFolder(dataset_path, transform=train_transform)\n",
    "num_classes = len(full_dataset.classes)\n",
    "\n",
    "val_size = int(0.2 * len(full_dataset))\n",
    "train_size = len(full_dataset) - val_size\n",
    "train_dataset, val_dataset = random_split(full_dataset, [train_size, val_size])\n",
    "\n",
    "# Use validation transforms on val dataset\n",
    "val_dataset.dataset.transform = val_transform\n",
    "\n",
    "train_loader = DataLoader(train_dataset, batch_size=batch_size, shuffle=True)\n",
    "val_loader = DataLoader(val_dataset, batch_size=batch_size)\n",
    "\n",
    "print(f\"Classes: {full_dataset.classes}\")\n",
    "print(f\"Train samples: {train_size}, Validation samples: {val_size}\")\n"
   ]
  },
  {
   "cell_type": "code",
   "execution_count": null,
   "id": "069b4f3d",
   "metadata": {},
   "outputs": [],
   "source": [
    "def plot_metrics(train_acc, val_acc, train_loss, val_loss, model_name):\n",
    "    plt.figure()\n",
    "    plt.plot(train_acc, label=\"Train Accuracy\")\n",
    "    plt.plot(val_acc, label=\"Validation Accuracy\")\n",
    "    plt.title(f\"{model_name} Accuracy\")\n",
    "    plt.xlabel(\"Epoch\")\n",
    "    plt.ylabel(\"Accuracy (%)\")\n",
    "    plt.legend()\n",
    "    plt.savefig(os.path.join(graphs_dir, f\"{model_name}_accuracy.png\"))\n",
    "    plt.close()\n",
    "\n",
    "    plt.figure()\n",
    "    plt.plot(train_loss, label=\"Train Loss\")\n",
    "    plt.plot(val_loss, label=\"Validation Loss\")\n",
    "    plt.title(f\"{model_name} Loss\")\n",
    "    plt.xlabel(\"Epoch\")\n",
    "    plt.ylabel(\"Loss\")\n",
    "    plt.legend()\n",
    "    plt.savefig(os.path.join(graphs_dir, f\"{model_name}_loss.png\"))\n",
    "    plt.close()\n",
    "    "
   ]
  },
  {
   "cell_type": "code",
   "execution_count": 21,
   "id": "7f86816f",
   "metadata": {},
   "outputs": [],
   "source": [
    "def train_model(model, model_name, epochs_freeze=5, epochs_finetune=25):\n",
    "    model.to(device)\n",
    "\n",
    "    # Freeze all parameters first\n",
    "    for param in model.parameters():\n",
    "        param.requires_grad = False\n",
    "\n",
    "    # Unfreeze classifier layers only\n",
    "    if model_name == \"ViT\":\n",
    "        for param in model.heads.head.parameters():\n",
    "            param.requires_grad = True\n",
    "    elif model_name == \"GoogLeNet\":\n",
    "        for param in model.fc.parameters():\n",
    "            param.requires_grad = True\n",
    "    else:  # AlexNet and VGG16\n",
    "        for param in model.classifier.parameters():\n",
    "            param.requires_grad = True\n",
    "\n",
    "    criterion = nn.CrossEntropyLoss()\n",
    "    optimizer = torch.optim.Adam(filter(lambda p: p.requires_grad, model.parameters()), lr=0.001)\n",
    "    scheduler = torch.optim.lr_scheduler.ReduceLROnPlateau(optimizer, mode='min', patience=3, verbose=True)\n",
    "    \n",
    "    patience = 5\n",
    "    best_val_loss = float('inf')\n",
    "    no_improve_epochs = 0\n",
    "\n",
    "    train_acc, val_acc = [], []\n",
    "    train_loss, val_loss = [], []\n",
    "\n",
    "    total_epochs = epochs_freeze + epochs_finetune\n",
    "\n",
    "    for epoch in range(total_epochs):\n",
    "        if epoch == epochs_freeze:\n",
    "            # Unfreeze all layers for fine-tuning\n",
    "            for param in model.parameters():\n",
    "                param.requires_grad = True\n",
    "            optimizer = torch.optim.Adam(model.parameters(), lr=0.0001)  # lower LR for finetuning\n",
    "            scheduler = torch.optim.lr_scheduler.ReduceLROnPlateau(optimizer, mode='min', patience=3, verbose=True)\n",
    "            print(f\"Unfroze all layers and lowered LR to 0.0001 at epoch {epoch+1}\")\n",
    "\n",
    "        model.train()\n",
    "        running_loss = 0.0\n",
    "        correct = 0\n",
    "        total = 0\n",
    "\n",
    "        for images, labels in tqdm(train_loader, desc=f\"{model_name} Training Epoch {epoch+1}/{total_epochs}\"):\n",
    "            images, labels = images.to(device), labels.to(device)\n",
    "            optimizer.zero_grad()\n",
    "            outputs = model(images)\n",
    "            loss = criterion(outputs, labels)\n",
    "            loss.backward()\n",
    "            optimizer.step()\n",
    "\n",
    "            running_loss += loss.item()\n",
    "            _, preds = outputs.max(1)\n",
    "            correct += (preds == labels).sum().item()\n",
    "            total += labels.size(0)\n",
    "\n",
    "        train_loss_epoch = running_loss / len(train_loader)\n",
    "        train_acc_epoch = 100 * correct / total\n",
    "        train_loss.append(train_loss_epoch)\n",
    "        train_acc.append(train_acc_epoch)\n",
    "\n",
    "        # Validation step\n",
    "        model.eval()\n",
    "        val_running_loss = 0.0\n",
    "        val_correct = 0\n",
    "        val_total = 0\n",
    "\n",
    "        with torch.no_grad():\n",
    "            for images, labels in val_loader:\n",
    "                images, labels = images.to(device), labels.to(device)\n",
    "                outputs = model(images)\n",
    "                loss = criterion(outputs, labels)\n",
    "\n",
    "                val_running_loss += loss.item()\n",
    "                _, preds = outputs.max(1)\n",
    "                val_correct += (preds == labels).sum().item()\n",
    "                val_total += labels.size(0)\n",
    "\n",
    "        val_loss_epoch = val_running_loss / len(val_loader)\n",
    "        val_acc_epoch = 100 * val_correct / val_total\n",
    "        val_loss.append(val_loss_epoch)\n",
    "        val_acc.append(val_acc_epoch)\n",
    "\n",
    "        print(f\"Epoch {epoch+1}: Train Acc={train_acc_epoch:.2f}%, Val Acc={val_acc_epoch:.2f}%, Val Loss={val_loss_epoch:.4f}\")\n",
    "\n",
    "        scheduler.step(val_loss_epoch)\n",
    "\n",
    "        # Early stopping\n",
    "        if val_loss_epoch < best_val_loss:\n",
    "            best_val_loss = val_loss_epoch\n",
    "            no_improve_epochs = 0\n",
    "            torch.save(model.state_dict(), os.path.join(models_dir, f\"{model_name}_best.pt\"))\n",
    "        else:\n",
    "            no_improve_epochs += 1\n",
    "            if no_improve_epochs >= patience:\n",
    "                print(f\"Early stopping at epoch {epoch+1}\")\n",
    "                break\n",
    "\n",
    "    torch.save(model.state_dict(), os.path.join(models_dir, f\"{model_name}_last.pt\"))\n",
    "    plot_metrics(train_acc, val_acc, train_loss, val_loss, model_name)\n"
   ]
  },
  {
   "cell_type": "code",
   "execution_count": 28,
   "id": "5d58d758",
   "metadata": {},
   "outputs": [],
   "source": [
    "def train_model(model, model_name, num_epochs=30):\n",
    "    model.to(device)\n",
    "    criterion = nn.CrossEntropyLoss()\n",
    "    optimizer = torch.optim.Adam(filter(lambda p: p.requires_grad, model.parameters()), lr=0.001)\n",
    "    # Removed verbose=True from here:\n",
    "    scheduler = torch.optim.lr_scheduler.ReduceLROnPlateau(optimizer, mode='min', patience=3)\n",
    "\n",
    "    patience = 5\n",
    "    best_val_loss = float('inf')\n",
    "    no_improve_epochs = 0\n",
    "\n",
    "    train_acc, val_acc, train_loss, val_loss = [], [], [], []\n",
    "\n",
    "    for epoch in range(num_epochs):\n",
    "        model.train()\n",
    "        total, correct, running_loss = 0, 0, 0\n",
    "\n",
    "        for imgs, labels in tqdm(train_loader, desc=f\"{model_name} - Epoch {epoch+1}\"):\n",
    "            imgs, labels = imgs.to(device), labels.to(device)\n",
    "            optimizer.zero_grad()\n",
    "            outputs = model(imgs)\n",
    "            loss = criterion(outputs, labels)\n",
    "            loss.backward()\n",
    "            optimizer.step()\n",
    "\n",
    "            running_loss += loss.item()\n",
    "            _, preds = outputs.max(1)\n",
    "            correct += (preds == labels).sum().item()\n",
    "            total += labels.size(0)\n",
    "\n",
    "        train_loss_epoch = running_loss / len(train_loader)\n",
    "        train_acc_epoch = 100 * correct / total\n",
    "        train_loss.append(train_loss_epoch)\n",
    "        train_acc.append(train_acc_epoch)\n",
    "\n",
    "        # Validation\n",
    "        model.eval()\n",
    "        correct, total, val_loss_epoch = 0, 0, 0\n",
    "        with torch.no_grad():\n",
    "            for imgs, labels in val_loader:\n",
    "                imgs, labels = imgs.to(device), labels.to(device)\n",
    "                outputs = model(imgs)\n",
    "                loss = criterion(outputs, labels)\n",
    "                val_loss_epoch += loss.item()\n",
    "                _, preds = outputs.max(1)\n",
    "                correct += (preds == labels).sum().item()\n",
    "                total += labels.size(0)\n",
    "\n",
    "        val_loss_epoch /= len(val_loader)\n",
    "        val_acc_epoch = 100 * correct / total\n",
    "        val_loss.append(val_loss_epoch)\n",
    "        val_acc.append(val_acc_epoch)\n",
    "\n",
    "        print(f\"Epoch {epoch+1}: Train Acc={train_acc_epoch:.2f}%, Val Acc={val_acc_epoch:.2f}%, Val Loss={val_loss_epoch:.4f}\")\n",
    "\n",
    "        scheduler.step(val_loss_epoch)\n",
    "\n",
    "        # Early stopping\n",
    "        if val_loss_epoch < best_val_loss:\n",
    "            best_val_loss = val_loss_epoch\n",
    "            no_improve_epochs = 0\n",
    "            torch.save(model.state_dict(), os.path.join(models_dir, f\"{model_name}_best.pt\"))\n",
    "        else:\n",
    "            no_improve_epochs += 1\n",
    "            if no_improve_epochs >= patience:\n",
    "                print(f\"⛔ Early stopping at epoch {epoch+1}\")\n",
    "                break\n",
    "\n",
    "    torch.save(model.state_dict(), os.path.join(models_dir, f\"{model_name}_last.pt\"))\n",
    "    plot_metrics(train_acc, val_acc, train_loss, val_loss, model_name)\n"
   ]
  },
  {
   "cell_type": "code",
   "execution_count": 23,
   "id": "b8aa24e4",
   "metadata": {},
   "outputs": [],
   "source": [
    "def evaluate_model(model, model_name, model_path):\n",
    "    model.to(device)\n",
    "    model.load_state_dict(torch.load(model_path))\n",
    "    model.eval()\n",
    "\n",
    "    all_preds = []\n",
    "    all_labels = []\n",
    "    correct = 0\n",
    "    total = 0\n",
    "\n",
    "    with torch.no_grad():\n",
    "        for images, labels in val_loader:\n",
    "            images, labels = images.to(device), labels.to(device)\n",
    "            outputs = model(images)\n",
    "            _, preds = outputs.max(1)\n",
    "            all_preds.extend(preds.cpu().numpy())\n",
    "            all_labels.extend(labels.cpu().numpy())\n",
    "            correct += (preds == labels).sum().item()\n",
    "            total += labels.size(0)\n",
    "\n",
    "    accuracy = 100 * correct / total\n",
    "    print(f\"{model_name} Validation Accuracy: {accuracy:.2f}%\")\n",
    "\n",
    "    cm = confusion_matrix(all_labels, all_preds)\n",
    "    disp = ConfusionMatrixDisplay(confusion_matrix=cm, display_labels=full_dataset.classes)\n",
    "    plt.figure(figsize=(12, 12))\n",
    "    disp.plot(cmap=plt.cm.Blues, xticks_rotation='vertical')\n",
    "    plt.title(f\"{model_name} Confusion Matrix\")\n",
    "    plt.savefig(os.path.join(graphs_dir, f\"{model_name}_confusion_matrix.png\"))\n",
    "    plt.close()\n"
   ]
  },
  {
   "cell_type": "code",
   "execution_count": 25,
   "id": "41a3b9ec",
   "metadata": {},
   "outputs": [
    {
     "name": "stdout",
     "output_type": "stream",
     "text": [
      "Downloading: \"https://download.pytorch.org/models/alexnet-owt-7be5be79.pth\" to C:\\Users\\VR/.cache\\torch\\hub\\checkpoints\\alexnet-owt-7be5be79.pth\n"
     ]
    },
    {
     "name": "stderr",
     "output_type": "stream",
     "text": [
      "100.0%\n"
     ]
    },
    {
     "name": "stdout",
     "output_type": "stream",
     "text": [
      "Downloading: \"https://download.pytorch.org/models/vgg16-397923af.pth\" to C:\\Users\\VR/.cache\\torch\\hub\\checkpoints\\vgg16-397923af.pth\n"
     ]
    },
    {
     "name": "stderr",
     "output_type": "stream",
     "text": [
      "100.0%\n"
     ]
    },
    {
     "name": "stdout",
     "output_type": "stream",
     "text": [
      "Downloading: \"https://download.pytorch.org/models/googlenet-1378be20.pth\" to C:\\Users\\VR/.cache\\torch\\hub\\checkpoints\\googlenet-1378be20.pth\n"
     ]
    },
    {
     "name": "stderr",
     "output_type": "stream",
     "text": [
      "100.0%\n"
     ]
    },
    {
     "name": "stdout",
     "output_type": "stream",
     "text": [
      "Downloading: \"https://download.pytorch.org/models/vit_b_16-c867db91.pth\" to C:\\Users\\VR/.cache\\torch\\hub\\checkpoints\\vit_b_16-c867db91.pth\n"
     ]
    },
    {
     "name": "stderr",
     "output_type": "stream",
     "text": [
      "100.0%\n"
     ]
    }
   ],
   "source": [
    "models_to_train = {\n",
    "    \"AlexNet\": models.alexnet(weights=models.AlexNet_Weights.IMAGENET1K_V1),\n",
    "    \"VGG16\": models.vgg16(weights=models.VGG16_Weights.IMAGENET1K_V1),\n",
    "    \"GoogLeNet\": models.googlenet(weights=models.GoogLeNet_Weights.IMAGENET1K_V1),\n",
    "    \"ViT\": vit_b_16(weights=models.ViT_B_16_Weights.IMAGENET1K_V1),\n",
    "}\n",
    "\n",
    "for name, model in models_to_train.items():\n",
    "    if name == \"ViT\":\n",
    "        model.heads.head = nn.Linear(model.heads.head.in_features, num_classes)\n",
    "    elif name == \"GoogLeNet\":\n",
    "        model.fc = nn.Linear(model.fc.in_features, num_classes)\n",
    "    else:  # AlexNet and VGG16\n",
    "        model.classifier[-1] = nn.Linear(model.classifier[-1].in_features, num_classes)\n"
   ]
  },
  {
   "cell_type": "code",
   "execution_count": null,
   "id": "f451b9b0",
   "metadata": {},
   "outputs": [],
   "source": [
    "for model_name, model in models_to_train.items():\n",
    "    print(f\"\\nStarting training for {model_name}...\")\n",
    "    train_model(model, model_name)\n",
    "print(\"\\nAll training complete!\")\n"
   ]
  },
  {
   "cell_type": "code",
   "execution_count": 31,
   "id": "fde63645",
   "metadata": {},
   "outputs": [
    {
     "name": "stdout",
     "output_type": "stream",
     "text": [
      "\n",
      "Evaluating AlexNet...\n",
      "AlexNet Validation Accuracy: 99.98%\n",
      "\n",
      "Evaluating VGG16...\n",
      "VGG16 Validation Accuracy: 3.39%\n",
      "\n",
      "Evaluating GoogLeNet...\n",
      "GoogLeNet Validation Accuracy: 100.00%\n",
      "\n",
      "Evaluating ViT...\n",
      "ViT Validation Accuracy: 99.91%\n",
      "Evaluation complete!\n"
     ]
    },
    {
     "data": {
      "text/plain": [
       "<Figure size 1200x1200 with 0 Axes>"
      ]
     },
     "metadata": {},
     "output_type": "display_data"
    },
    {
     "data": {
      "text/plain": [
       "<Figure size 1200x1200 with 0 Axes>"
      ]
     },
     "metadata": {},
     "output_type": "display_data"
    },
    {
     "data": {
      "text/plain": [
       "<Figure size 1200x1200 with 0 Axes>"
      ]
     },
     "metadata": {},
     "output_type": "display_data"
    },
    {
     "data": {
      "text/plain": [
       "<Figure size 1200x1200 with 0 Axes>"
      ]
     },
     "metadata": {},
     "output_type": "display_data"
    }
   ],
   "source": [
    "for model_name, model in models_to_train.items():\n",
    "    best_model_path = os.path.join(models_dir, f\"{model_name}_best.pt\")\n",
    "    print(f\"\\nEvaluating {model_name}...\")\n",
    "    evaluate_model(model, model_name, best_model_path)\n",
    "print(\"Evaluation complete!\")\n"
   ]
  }
 ],
 "metadata": {
  "kernelspec": {
   "display_name": "base",
   "language": "python",
   "name": "python3"
  },
  "language_info": {
   "codemirror_mode": {
    "name": "ipython",
    "version": 3
   },
   "file_extension": ".py",
   "mimetype": "text/x-python",
   "name": "python",
   "nbconvert_exporter": "python",
   "pygments_lexer": "ipython3",
   "version": "3.12.7"
  }
 },
 "nbformat": 4,
 "nbformat_minor": 5
}
